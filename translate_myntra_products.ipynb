{
 "cells": [
  {
   "cell_type": "code",
   "execution_count": 1,
   "id": "initial_id",
   "metadata": {
    "collapsed": true,
    "ExecuteTime": {
     "end_time": "2023-12-16T17:57:38.766055Z",
     "start_time": "2023-12-16T17:57:38.421414100Z"
    }
   },
   "outputs": [],
   "source": [
    "import pandas as pd\n",
    "from googletrans import Translator"
   ]
  },
  {
   "cell_type": "code",
   "execution_count": 5,
   "outputs": [
    {
     "data": {
      "text/plain": "     ProductID                                        ProductName  \\\n0     10017413  DKNY Unisex Black & Grey Printed Medium Trolle...   \n1     10016283  EthnoVogue Women Beige & Grey Made to Measure ...   \n2     10009781  SPYKAR Women Pink Alexa Super Skinny Fit High-...   \n3     10015921  Raymond Men Blue Self-Design Single-Breasted B...   \n4     10017833  Parx Men Brown & Off-White Slim Fit Printed Ca...   \n..         ...                                                ...   \n295   10012823  SEJ by Nisha Gupta Set of 4 Multicoloured Prin...   \n296   10007763  her by invictus Women Black Solid Cushioned Sm...   \n297   10012363  Lakme 9To5 Eye Quartet Eyeshadow - Royal Peaco...   \n298   10003801  Homesake Gold-Toned & Red Solid Handcrafted Ta...   \n299   10009623  SPYKAR Women Blue Adora Skinny Fit High-Rise L...   \n\n           ProductBrand  Gender  Price (INR)  NumImages  \\\n0                  DKNY  Unisex        11745          7   \n1            EthnoVogue   Women         5810          7   \n2                SPYKAR   Women          899          7   \n3               Raymond     Men         5599          5   \n4                  Parx     Men          759          5   \n..                  ...     ...          ...        ...   \n295  SEJ by Nisha Gupta  Unisex          799          4   \n296     her by invictus   Women         1999          6   \n297               Lakme   Women          520          5   \n298            Homesake  Unisex         1620          5   \n299              SPYKAR   Women         1079          7   \n\n                                           Description PrimaryColor  \n0    Black and grey printed medium trolley bag, sec...        Black  \n1    Beige & Grey made to measure kurta with churid...        Beige  \n2    Pink coloured wash 5-pocket high-rise cropped ...         Pink  \n3    Blue self-design bandhgala suitBlue self-desig...         Blue  \n4    Brown and off-white printed casual shirt, has ...        White  \n..                                                 ...          ...  \n295  Set content: 4 table matsShape: RectangleColou...          Red  \n296  A pair of black pointed-toed derbys with comfo...        Black  \n297  Lakme 9To5 Eye Quartet EyeshadowShade name: Ro...          NaN  \n298  Type: Handcrafted Table Lamp with ShadeColour:...          Red  \n299  Blue medium wash 5-pocket high-rise jeans, low...         Blue  \n\n[300 rows x 8 columns]",
      "text/html": "<div>\n<style scoped>\n    .dataframe tbody tr th:only-of-type {\n        vertical-align: middle;\n    }\n\n    .dataframe tbody tr th {\n        vertical-align: top;\n    }\n\n    .dataframe thead th {\n        text-align: right;\n    }\n</style>\n<table border=\"1\" class=\"dataframe\">\n  <thead>\n    <tr style=\"text-align: right;\">\n      <th></th>\n      <th>ProductID</th>\n      <th>ProductName</th>\n      <th>ProductBrand</th>\n      <th>Gender</th>\n      <th>Price (INR)</th>\n      <th>NumImages</th>\n      <th>Description</th>\n      <th>PrimaryColor</th>\n    </tr>\n  </thead>\n  <tbody>\n    <tr>\n      <th>0</th>\n      <td>10017413</td>\n      <td>DKNY Unisex Black &amp; Grey Printed Medium Trolle...</td>\n      <td>DKNY</td>\n      <td>Unisex</td>\n      <td>11745</td>\n      <td>7</td>\n      <td>Black and grey printed medium trolley bag, sec...</td>\n      <td>Black</td>\n    </tr>\n    <tr>\n      <th>1</th>\n      <td>10016283</td>\n      <td>EthnoVogue Women Beige &amp; Grey Made to Measure ...</td>\n      <td>EthnoVogue</td>\n      <td>Women</td>\n      <td>5810</td>\n      <td>7</td>\n      <td>Beige &amp; Grey made to measure kurta with churid...</td>\n      <td>Beige</td>\n    </tr>\n    <tr>\n      <th>2</th>\n      <td>10009781</td>\n      <td>SPYKAR Women Pink Alexa Super Skinny Fit High-...</td>\n      <td>SPYKAR</td>\n      <td>Women</td>\n      <td>899</td>\n      <td>7</td>\n      <td>Pink coloured wash 5-pocket high-rise cropped ...</td>\n      <td>Pink</td>\n    </tr>\n    <tr>\n      <th>3</th>\n      <td>10015921</td>\n      <td>Raymond Men Blue Self-Design Single-Breasted B...</td>\n      <td>Raymond</td>\n      <td>Men</td>\n      <td>5599</td>\n      <td>5</td>\n      <td>Blue self-design bandhgala suitBlue self-desig...</td>\n      <td>Blue</td>\n    </tr>\n    <tr>\n      <th>4</th>\n      <td>10017833</td>\n      <td>Parx Men Brown &amp; Off-White Slim Fit Printed Ca...</td>\n      <td>Parx</td>\n      <td>Men</td>\n      <td>759</td>\n      <td>5</td>\n      <td>Brown and off-white printed casual shirt, has ...</td>\n      <td>White</td>\n    </tr>\n    <tr>\n      <th>...</th>\n      <td>...</td>\n      <td>...</td>\n      <td>...</td>\n      <td>...</td>\n      <td>...</td>\n      <td>...</td>\n      <td>...</td>\n      <td>...</td>\n    </tr>\n    <tr>\n      <th>295</th>\n      <td>10012823</td>\n      <td>SEJ by Nisha Gupta Set of 4 Multicoloured Prin...</td>\n      <td>SEJ by Nisha Gupta</td>\n      <td>Unisex</td>\n      <td>799</td>\n      <td>4</td>\n      <td>Set content: 4 table matsShape: RectangleColou...</td>\n      <td>Red</td>\n    </tr>\n    <tr>\n      <th>296</th>\n      <td>10007763</td>\n      <td>her by invictus Women Black Solid Cushioned Sm...</td>\n      <td>her by invictus</td>\n      <td>Women</td>\n      <td>1999</td>\n      <td>6</td>\n      <td>A pair of black pointed-toed derbys with comfo...</td>\n      <td>Black</td>\n    </tr>\n    <tr>\n      <th>297</th>\n      <td>10012363</td>\n      <td>Lakme 9To5 Eye Quartet Eyeshadow - Royal Peaco...</td>\n      <td>Lakme</td>\n      <td>Women</td>\n      <td>520</td>\n      <td>5</td>\n      <td>Lakme 9To5 Eye Quartet EyeshadowShade name: Ro...</td>\n      <td>NaN</td>\n    </tr>\n    <tr>\n      <th>298</th>\n      <td>10003801</td>\n      <td>Homesake Gold-Toned &amp; Red Solid Handcrafted Ta...</td>\n      <td>Homesake</td>\n      <td>Unisex</td>\n      <td>1620</td>\n      <td>5</td>\n      <td>Type: Handcrafted Table Lamp with ShadeColour:...</td>\n      <td>Red</td>\n    </tr>\n    <tr>\n      <th>299</th>\n      <td>10009623</td>\n      <td>SPYKAR Women Blue Adora Skinny Fit High-Rise L...</td>\n      <td>SPYKAR</td>\n      <td>Women</td>\n      <td>1079</td>\n      <td>7</td>\n      <td>Blue medium wash 5-pocket high-rise jeans, low...</td>\n      <td>Blue</td>\n    </tr>\n  </tbody>\n</table>\n<p>300 rows × 8 columns</p>\n</div>"
     },
     "execution_count": 5,
     "metadata": {},
     "output_type": "execute_result"
    }
   ],
   "source": [
    "df = pd.read_csv(\"myntra_products_catalog.csv\").loc[:299]\n",
    "df"
   ],
   "metadata": {
    "collapsed": false,
    "ExecuteTime": {
     "end_time": "2023-12-16T18:16:21.400723400Z",
     "start_time": "2023-12-16T18:16:21.363701400Z"
    }
   },
   "id": "ed835c68956181c4"
  },
  {
   "cell_type": "code",
   "execution_count": 7,
   "outputs": [
    {
     "data": {
      "text/plain": "     ProductID                                        ProductName  \\\n0     10017413  DKNY Sac de chariot moyen imprimé noir unisexe...   \n1     10016283  Ethnovogue femmes beige et gris conçues pour m...   \n2     10009781  Spykar Femmes Pink Alexa Super Skinny Fit Righ...   \n3     10015921  Raymond Men Blue Self-conception Single Bandhg...   \n4     10017833  Parx Men Brown & Off-White Slim Fit Imprimé Ca...   \n..         ...                                                ...   \n295   10012823  SEJ par Nisha Gupta Set de 4 places de classem...   \n296   10007763  elle par invictus femmes noires solides amorti...   \n297   10012363  Lakme 9to5 Eye Quartet Eyeshadow - Royal Peaco...   \n298   10003801  Lampe de table artisanale à la main à la maiso...   \n299   10009623  Spykar Femmes Blue Adora Skinny Fit Rid-Rise L...   \n\n           ProductBrand  Gender  Price (INR)  NumImages  \\\n0                  DKNY  Unisex        11745          7   \n1            EthnoVogue   Women         5810          7   \n2                SPYKAR   Women          899          7   \n3               Raymond     Men         5599          5   \n4                  Parx     Men          759          5   \n..                  ...     ...          ...        ...   \n295  SEJ by Nisha Gupta  Unisex          799          4   \n296     her by invictus   Women         1999          6   \n297               Lakme   Women          520          5   \n298            Homesake  Unisex         1620          5   \n299              SPYKAR   Women         1079          7   \n\n                                           Description PrimaryColor  \n0    Black and grey printed medium trolley bag, sec...        Black  \n1    Beige & Grey made to measure kurta with churid...        Beige  \n2    Pink coloured wash 5-pocket high-rise cropped ...         Pink  \n3    Blue self-design bandhgala suitBlue self-desig...         Blue  \n4    Brown and off-white printed casual shirt, has ...        White  \n..                                                 ...          ...  \n295  Set content: 4 table matsShape: RectangleColou...          Red  \n296  A pair of black pointed-toed derbys with comfo...        Black  \n297  Lakme 9To5 Eye Quartet EyeshadowShade name: Ro...          NaN  \n298  Type: Handcrafted Table Lamp with ShadeColour:...          Red  \n299  Blue medium wash 5-pocket high-rise jeans, low...         Blue  \n\n[300 rows x 8 columns]",
      "text/html": "<div>\n<style scoped>\n    .dataframe tbody tr th:only-of-type {\n        vertical-align: middle;\n    }\n\n    .dataframe tbody tr th {\n        vertical-align: top;\n    }\n\n    .dataframe thead th {\n        text-align: right;\n    }\n</style>\n<table border=\"1\" class=\"dataframe\">\n  <thead>\n    <tr style=\"text-align: right;\">\n      <th></th>\n      <th>ProductID</th>\n      <th>ProductName</th>\n      <th>ProductBrand</th>\n      <th>Gender</th>\n      <th>Price (INR)</th>\n      <th>NumImages</th>\n      <th>Description</th>\n      <th>PrimaryColor</th>\n    </tr>\n  </thead>\n  <tbody>\n    <tr>\n      <th>0</th>\n      <td>10017413</td>\n      <td>DKNY Sac de chariot moyen imprimé noir unisexe...</td>\n      <td>DKNY</td>\n      <td>Unisex</td>\n      <td>11745</td>\n      <td>7</td>\n      <td>Black and grey printed medium trolley bag, sec...</td>\n      <td>Black</td>\n    </tr>\n    <tr>\n      <th>1</th>\n      <td>10016283</td>\n      <td>Ethnovogue femmes beige et gris conçues pour m...</td>\n      <td>EthnoVogue</td>\n      <td>Women</td>\n      <td>5810</td>\n      <td>7</td>\n      <td>Beige &amp; Grey made to measure kurta with churid...</td>\n      <td>Beige</td>\n    </tr>\n    <tr>\n      <th>2</th>\n      <td>10009781</td>\n      <td>Spykar Femmes Pink Alexa Super Skinny Fit Righ...</td>\n      <td>SPYKAR</td>\n      <td>Women</td>\n      <td>899</td>\n      <td>7</td>\n      <td>Pink coloured wash 5-pocket high-rise cropped ...</td>\n      <td>Pink</td>\n    </tr>\n    <tr>\n      <th>3</th>\n      <td>10015921</td>\n      <td>Raymond Men Blue Self-conception Single Bandhg...</td>\n      <td>Raymond</td>\n      <td>Men</td>\n      <td>5599</td>\n      <td>5</td>\n      <td>Blue self-design bandhgala suitBlue self-desig...</td>\n      <td>Blue</td>\n    </tr>\n    <tr>\n      <th>4</th>\n      <td>10017833</td>\n      <td>Parx Men Brown &amp; Off-White Slim Fit Imprimé Ca...</td>\n      <td>Parx</td>\n      <td>Men</td>\n      <td>759</td>\n      <td>5</td>\n      <td>Brown and off-white printed casual shirt, has ...</td>\n      <td>White</td>\n    </tr>\n    <tr>\n      <th>...</th>\n      <td>...</td>\n      <td>...</td>\n      <td>...</td>\n      <td>...</td>\n      <td>...</td>\n      <td>...</td>\n      <td>...</td>\n      <td>...</td>\n    </tr>\n    <tr>\n      <th>295</th>\n      <td>10012823</td>\n      <td>SEJ par Nisha Gupta Set de 4 places de classem...</td>\n      <td>SEJ by Nisha Gupta</td>\n      <td>Unisex</td>\n      <td>799</td>\n      <td>4</td>\n      <td>Set content: 4 table matsShape: RectangleColou...</td>\n      <td>Red</td>\n    </tr>\n    <tr>\n      <th>296</th>\n      <td>10007763</td>\n      <td>elle par invictus femmes noires solides amorti...</td>\n      <td>her by invictus</td>\n      <td>Women</td>\n      <td>1999</td>\n      <td>6</td>\n      <td>A pair of black pointed-toed derbys with comfo...</td>\n      <td>Black</td>\n    </tr>\n    <tr>\n      <th>297</th>\n      <td>10012363</td>\n      <td>Lakme 9to5 Eye Quartet Eyeshadow - Royal Peaco...</td>\n      <td>Lakme</td>\n      <td>Women</td>\n      <td>520</td>\n      <td>5</td>\n      <td>Lakme 9To5 Eye Quartet EyeshadowShade name: Ro...</td>\n      <td>NaN</td>\n    </tr>\n    <tr>\n      <th>298</th>\n      <td>10003801</td>\n      <td>Lampe de table artisanale à la main à la maiso...</td>\n      <td>Homesake</td>\n      <td>Unisex</td>\n      <td>1620</td>\n      <td>5</td>\n      <td>Type: Handcrafted Table Lamp with ShadeColour:...</td>\n      <td>Red</td>\n    </tr>\n    <tr>\n      <th>299</th>\n      <td>10009623</td>\n      <td>Spykar Femmes Blue Adora Skinny Fit Rid-Rise L...</td>\n      <td>SPYKAR</td>\n      <td>Women</td>\n      <td>1079</td>\n      <td>7</td>\n      <td>Blue medium wash 5-pocket high-rise jeans, low...</td>\n      <td>Blue</td>\n    </tr>\n  </tbody>\n</table>\n<p>300 rows × 8 columns</p>\n</div>"
     },
     "execution_count": 7,
     "metadata": {},
     "output_type": "execute_result"
    }
   ],
   "source": [
    "translator = Translator()\n",
    "\n",
    "df[\"ProductName\"] = df[\"ProductName\"].apply(lambda row: translator.translate(row, dest=\"fr\").text)\n",
    "\n",
    "df"
   ],
   "metadata": {
    "collapsed": false,
    "ExecuteTime": {
     "end_time": "2023-12-16T18:22:58.290619200Z",
     "start_time": "2023-12-16T18:20:32.125359400Z"
    }
   },
   "id": "de6eea1b9acb60ae"
  },
  {
   "cell_type": "code",
   "execution_count": 10,
   "outputs": [
    {
     "data": {
      "text/plain": "     ProductID                                        ProductName  \\\n0     10017413  DKNY Sac de chariot moyen imprimé noir unisexe...   \n1     10016283  Ethnovogue femmes beige et gris conçues pour m...   \n2     10009781  Spykar Femmes Pink Alexa Super Skinny Fit Righ...   \n3     10015921  Raymond Men Blue Self-conception Single Bandhg...   \n4     10017833  Parx Men Brown & Off-White Slim Fit Imprimé Ca...   \n..         ...                                                ...   \n295   10012823  SEJ par Nisha Gupta Set de 4 places de classem...   \n296   10007763  elle par invictus femmes noires solides amorti...   \n297   10012363  Lakme 9to5 Eye Quartet Eyeshadow - Royal Peaco...   \n298   10003801  Lampe de table artisanale à la main à la maiso...   \n299   10009623  Spykar Femmes Blue Adora Skinny Fit Rid-Rise L...   \n\n           ProductBrand  Gender  Price (INR)  NumImages  \\\n0                  DKNY  Unisex        11745          7   \n1            EthnoVogue   Women         5810          7   \n2                SPYKAR   Women          899          7   \n3               Raymond     Men         5599          5   \n4                  Parx     Men          759          5   \n..                  ...     ...          ...        ...   \n295  SEJ by Nisha Gupta  Unisex          799          4   \n296     her by invictus   Women         1999          6   \n297               Lakme   Women          520          5   \n298            Homesake  Unisex         1620          5   \n299              SPYKAR   Women         1079          7   \n\n                                           Description PrimaryColor  \n0    Le sac de chariot moyen imprimé noir et gris, ...        Black  \n1    Beige et gris conçu pour mesurer la kurta avec...        Beige  \n2    Jean rose lavé de 5 poches de lavage de 5 poch...         Pink  \n3    Bandhgala Blazer Bandhgala Bandhgala Bandhgala...         Blue  \n4    Shirt décontracté imprimé marron et blanc cass...        White  \n..                                                 ...          ...  \n295  Définir le contenu: 4 Table Matshape: Rectangl...          Red  \n296  Une paire de derbys noirs pointés avec une dou...        Black  \n297  Lakme 9to5 Eye Quartet à fard à paupières Nom:...          NaN  \n298  Type: lampe de table fabriquée à la main avec ...          Red  \n299  Un jean de grande hauteur de lavage à 5 poches...         Blue  \n\n[300 rows x 8 columns]",
      "text/html": "<div>\n<style scoped>\n    .dataframe tbody tr th:only-of-type {\n        vertical-align: middle;\n    }\n\n    .dataframe tbody tr th {\n        vertical-align: top;\n    }\n\n    .dataframe thead th {\n        text-align: right;\n    }\n</style>\n<table border=\"1\" class=\"dataframe\">\n  <thead>\n    <tr style=\"text-align: right;\">\n      <th></th>\n      <th>ProductID</th>\n      <th>ProductName</th>\n      <th>ProductBrand</th>\n      <th>Gender</th>\n      <th>Price (INR)</th>\n      <th>NumImages</th>\n      <th>Description</th>\n      <th>PrimaryColor</th>\n    </tr>\n  </thead>\n  <tbody>\n    <tr>\n      <th>0</th>\n      <td>10017413</td>\n      <td>DKNY Sac de chariot moyen imprimé noir unisexe...</td>\n      <td>DKNY</td>\n      <td>Unisex</td>\n      <td>11745</td>\n      <td>7</td>\n      <td>Le sac de chariot moyen imprimé noir et gris, ...</td>\n      <td>Black</td>\n    </tr>\n    <tr>\n      <th>1</th>\n      <td>10016283</td>\n      <td>Ethnovogue femmes beige et gris conçues pour m...</td>\n      <td>EthnoVogue</td>\n      <td>Women</td>\n      <td>5810</td>\n      <td>7</td>\n      <td>Beige et gris conçu pour mesurer la kurta avec...</td>\n      <td>Beige</td>\n    </tr>\n    <tr>\n      <th>2</th>\n      <td>10009781</td>\n      <td>Spykar Femmes Pink Alexa Super Skinny Fit Righ...</td>\n      <td>SPYKAR</td>\n      <td>Women</td>\n      <td>899</td>\n      <td>7</td>\n      <td>Jean rose lavé de 5 poches de lavage de 5 poch...</td>\n      <td>Pink</td>\n    </tr>\n    <tr>\n      <th>3</th>\n      <td>10015921</td>\n      <td>Raymond Men Blue Self-conception Single Bandhg...</td>\n      <td>Raymond</td>\n      <td>Men</td>\n      <td>5599</td>\n      <td>5</td>\n      <td>Bandhgala Blazer Bandhgala Bandhgala Bandhgala...</td>\n      <td>Blue</td>\n    </tr>\n    <tr>\n      <th>4</th>\n      <td>10017833</td>\n      <td>Parx Men Brown &amp; Off-White Slim Fit Imprimé Ca...</td>\n      <td>Parx</td>\n      <td>Men</td>\n      <td>759</td>\n      <td>5</td>\n      <td>Shirt décontracté imprimé marron et blanc cass...</td>\n      <td>White</td>\n    </tr>\n    <tr>\n      <th>...</th>\n      <td>...</td>\n      <td>...</td>\n      <td>...</td>\n      <td>...</td>\n      <td>...</td>\n      <td>...</td>\n      <td>...</td>\n      <td>...</td>\n    </tr>\n    <tr>\n      <th>295</th>\n      <td>10012823</td>\n      <td>SEJ par Nisha Gupta Set de 4 places de classem...</td>\n      <td>SEJ by Nisha Gupta</td>\n      <td>Unisex</td>\n      <td>799</td>\n      <td>4</td>\n      <td>Définir le contenu: 4 Table Matshape: Rectangl...</td>\n      <td>Red</td>\n    </tr>\n    <tr>\n      <th>296</th>\n      <td>10007763</td>\n      <td>elle par invictus femmes noires solides amorti...</td>\n      <td>her by invictus</td>\n      <td>Women</td>\n      <td>1999</td>\n      <td>6</td>\n      <td>Une paire de derbys noirs pointés avec une dou...</td>\n      <td>Black</td>\n    </tr>\n    <tr>\n      <th>297</th>\n      <td>10012363</td>\n      <td>Lakme 9to5 Eye Quartet Eyeshadow - Royal Peaco...</td>\n      <td>Lakme</td>\n      <td>Women</td>\n      <td>520</td>\n      <td>5</td>\n      <td>Lakme 9to5 Eye Quartet à fard à paupières Nom:...</td>\n      <td>NaN</td>\n    </tr>\n    <tr>\n      <th>298</th>\n      <td>10003801</td>\n      <td>Lampe de table artisanale à la main à la maiso...</td>\n      <td>Homesake</td>\n      <td>Unisex</td>\n      <td>1620</td>\n      <td>5</td>\n      <td>Type: lampe de table fabriquée à la main avec ...</td>\n      <td>Red</td>\n    </tr>\n    <tr>\n      <th>299</th>\n      <td>10009623</td>\n      <td>Spykar Femmes Blue Adora Skinny Fit Rid-Rise L...</td>\n      <td>SPYKAR</td>\n      <td>Women</td>\n      <td>1079</td>\n      <td>7</td>\n      <td>Un jean de grande hauteur de lavage à 5 poches...</td>\n      <td>Blue</td>\n    </tr>\n  </tbody>\n</table>\n<p>300 rows × 8 columns</p>\n</div>"
     },
     "execution_count": 10,
     "metadata": {},
     "output_type": "execute_result"
    }
   ],
   "source": [
    "df[\"Description\"] = df[\"Description\"].apply(lambda desc: translator.translate(desc, dest=\"fr\").text)"
   ],
   "metadata": {
    "collapsed": false,
    "ExecuteTime": {
     "end_time": "2023-12-16T18:38:02.490740200Z",
     "start_time": "2023-12-16T18:31:49.391801300Z"
    }
   },
   "id": "69a2682ed7a84274"
  },
  {
   "cell_type": "code",
   "execution_count": 11,
   "outputs": [],
   "source": [
    "df.to_csv(\"myntra_products_catalog.csv\", \"w\")"
   ],
   "metadata": {
    "collapsed": false,
    "ExecuteTime": {
     "end_time": "2023-12-16T18:39:45.305199700Z",
     "start_time": "2023-12-16T18:39:45.276735Z"
    }
   },
   "id": "b5fb9e179317ee7b"
  },
  {
   "cell_type": "code",
   "execution_count": 13,
   "outputs": [],
   "source": [
    "from sentence_transformers import SentenceTransformer\n",
    "\n",
    "model = SentenceTransformer(\"all-mpnet-base-v2\")\n",
    "\n",
    "df[\"DescriptionVector\"] = df[\"Description\"].apply(lambda desc: model.encode(desc))"
   ],
   "metadata": {
    "collapsed": false,
    "ExecuteTime": {
     "end_time": "2023-12-16T18:46:06.401027600Z",
     "start_time": "2023-12-16T18:45:46.848718700Z"
    }
   },
   "id": "7e4242ff694bb73e"
  },
  {
   "cell_type": "code",
   "execution_count": 14,
   "outputs": [],
   "source": [
    "df.to_csv(\"myntra_products_catalog.csv\", \"w\")"
   ],
   "metadata": {
    "collapsed": false,
    "ExecuteTime": {
     "end_time": "2023-12-16T18:46:19.163630900Z",
     "start_time": "2023-12-16T18:46:18.251246800Z"
    }
   },
   "id": "8d4f5919d70027ef"
  },
  {
   "cell_type": "code",
   "execution_count": 16,
   "outputs": [
    {
     "name": "stdout",
     "output_type": "stream",
     "text": [
      "BadRequestError(400, 'document_parsing_exception', '[1:214] failed to parse: [1:232] Non-standard token \\'NaN\\': enable `JsonReadFeature.ALLOW_NON_NUMERIC_NUMBERS` to allow\\n at [Source: (byte[])\"{\"ProductID\":10001989,\"ProductName\":\"Les policiers pour être le King Eau de Tobectette 125 ml\",\"ProductBrand\":\"Police\",\"Gender\":\"Men\",\"Price (INR)\":2695,\"NumImages\":5,\"Description\":\"Être le roi eau de toilette\",\"PrimaryColor\":NaN,\"DescriptionVector\":[0.028974834829568863,0.008021257817745209,0.007880439050495625,0.002564873779192567,-0.010432888753712177,-0.012128847651183605,-0.02527708001434803,0.012408556416630745,0.044463157653808594,-0.01148888748139143,0.017660079523921013,-0.05414903908\"[truncated 16011 bytes]; line: 1, column: 232]')\n",
      "BadRequestError(400, 'document_parsing_exception', '[1:312] failed to parse: [1:330] Non-standard token \\'NaN\\': enable `JsonReadFeature.ALLOW_NON_NUMERIC_NUMBERS` to allow\\n at [Source: (byte[])\"{\"ProductID\":10001265,\"ProductName\":\"Michael Kors Women Sexy Amber Eau de Parfum 100ml\",\"ProductBrand\":\"Michael Kors\",\"Gender\":\"Women\",\"Price (INR)\":7920,\"NumImages\":3,\"Description\":\"Michael Kors Sexy Amber Eau de Parfumfragrance Remarques: Notes de tête - Notes Amberheart - Sandalwoodbase - Fleurs blanches\",\"PrimaryColor\":NaN,\"DescriptionVector\":[0.0702984631061554,0.03906068950891495,-9.805504669202492e-05,0.03819786757230759,-0.04673513025045395,-0.01663256622850895,0.02157113328576088,0.041\"[truncated 16091 bytes]; line: 1, column: 330]')\n",
      "BadRequestError(400, 'document_parsing_exception', '[1:337] failed to parse: [1:355] Non-standard token \\'NaN\\': enable `JsonReadFeature.ALLOW_NON_NUMERIC_NUMBERS` to allow\\n at [Source: (byte[])\"{\"ProductID\":10012767,\"ProductName\":\"SEJ par Nisha Gupta Set de 6 Placemats de table imprimés\",\"ProductBrand\":\"SEJ by Nisha Gupta\",\"Gender\":\"Unisex\",\"Price (INR)\":899,\"NumImages\":4,\"Description\":\"Définir le contenu: 6 tapis de table Forme: Rectangle Couleur: Rose et Blue Modèle: Imprimé adapté à: 6 places Table Material: Coton\",\"PrimaryColor\":NaN,\"DescriptionVector\":[-0.010505275800824165,-0.10104596614837646,-0.03576352074742317,0.07042030990123749,-0.08555522561073303,-0.0475802645087242\"[truncated 16096 bytes]; line: 1, column: 355]')\n",
      "BadRequestError(400, 'document_parsing_exception', '[1:273] failed to parse: [1:291] Non-standard token \\'NaN\\': enable `JsonReadFeature.ALLOW_NON_NUMERIC_NUMBERS` to allow\\n at [Source: (byte[])\"{\"ProductID\":10001111,\"ProductName\":\"Anna s ui water la lied e boheme ed t 75 belle\",\"ProductBrand\":\"ANNA SUI\",\"Gender\":\"Women\",\"Price (INR)\":4600,\"NumImages\":4,\"Description\":\"Anna Sui la Vie de Boheme Eau de Toiletterstrong Perfumelasts 2 à 3 heuresBouteille de 75 ml.\",\"PrimaryColor\":NaN,\"DescriptionVector\":[0.04535355418920517,-0.016967397183179855,0.022020898759365082,0.043885238468647,-0.037596672773361206,-0.009546684101223946,0.017936116084456444,0.040673788636922836,0.025172116234898567,\"[truncated 16051 bytes]; line: 1, column: 291]')\n",
      "BadRequestError(400, 'document_parsing_exception', '[1:428] failed to parse: [1:446] Non-standard token \\'NaN\\': enable `JsonReadFeature.ALLOW_NON_NUMERIC_NUMBERS` to allow\\n at [Source: (byte[])\"{\"ProductID\":10000805,\"ProductName\":\"Lady Lyka Women Pack de 2 débutants adolescents de soutien-gorge-wht-blk\",\"ProductBrand\":\"Lady Lyka\",\"Gender\":\"Women\",\"Price (INR)\":425,\"NumImages\":5,\"Description\":\"Black and White Solid Medium-Coverage débutants Brasnon rembourrés et non câblés et les sangles de coussinets et de coussinets de coussin et le style de fermeture du dos: Fecuture régulière: confort toute la journée\",\"PrimaryColor\":NaN,\"DescriptionVector\":[-0.02474944479763508,-0.054686721\"[truncated 16211 bytes]; line: 1, column: 446]')\n",
      "BadRequestError(400, 'document_parsing_exception', '[1:310] failed to parse: [1:328] Non-standard token \\'NaN\\': enable `JsonReadFeature.ALLOW_NON_NUMERIC_NUMBERS` to allow\\n at [Source: (byte[])\"{\"ProductID\":10012713,\"ProductName\":\"Ensemble de décoration Miah de 5 kulladhs en céramique artisanaux\",\"ProductBrand\":\"MIAH Decor\",\"Gender\":\"Unisex\",\"Price (INR)\":865,\"NumImages\":4,\"Description\":\"Ensemble de 5 kulladhs en céramique: impriméfinish: glossymaterial: céramicfeatures: fabriqué à la main\",\"PrimaryColor\":NaN,\"DescriptionVector\":[0.03463985398411751,-0.03575795888900757,-0.015665708109736443,0.028745874762535095,-0.034270990639925,-0.005032908171415329,-0.005068738479167223,-0.0\"[truncated 16062 bytes]; line: 1, column: 328]')\n",
      "BadRequestError(400, 'document_parsing_exception', '[1:331] failed to parse: [1:349] Non-standard token \\'NaN\\': enable `JsonReadFeature.ALLOW_NON_NUMERIC_NUMBERS` to allow\\n at [Source: (byte[])\"{\"ProductID\":10012771,\"ProductName\":\"SEJ par Nisha Gupta Set de 6 Placemats de table imprimés\",\"ProductBrand\":\"SEJ by Nisha Gupta\",\"Gender\":\"Unisex\",\"Price (INR)\":899,\"NumImages\":4,\"Description\":\"Définir le contenu: 6 Table Matshape: Rectanglecolour: moutarde jaune et greypattern: imprimé pour: tablematerial 6 places: coton\",\"PrimaryColor\":NaN,\"DescriptionVector\":[-0.0008755134767852724,-0.08573061972856522,-0.002233505714684725,0.05586808919906616,-0.07212992012500763,-0.04232238978147507,0.\"[truncated 16088 bytes]; line: 1, column: 349]')\n",
      "BadRequestError(400, 'document_parsing_exception', '[1:334] failed to parse: [1:352] Non-standard token \\'NaN\\': enable `JsonReadFeature.ALLOW_NON_NUMERIC_NUMBERS` to allow\\n at [Source: (byte[])\"{\"ProductID\":10002337,\"ProductName\":\"Bvlgari women splendida iris d\\'O ou eau de Parfum 100 ml\",\"ProductBrand\":\"Bvlgari\",\"Gender\":\"Women\",\"Price (INR)\":10950,\"NumImages\":2,\"Description\":\"Notes de Nottop: Violet laisse absolue, Heliotropeheart Notes: Orris ABS, Mimosa Absbase Remarques: Tonka Beans, Heart of Vetiver, Sandalwood ESS\",\"PrimaryColor\":NaN,\"DescriptionVector\":[0.027453932911157608,-0.03547833859920502,-0.017835967242717743,0.07640667259693146,-0.010843457654118538,-0.020709866657853127\"[truncated 16114 bytes]; line: 1, column: 352]')\n",
      "BadRequestError(400, 'document_parsing_exception', '[1:302] failed to parse: [1:320] Non-standard token \\'NaN\\': enable `JsonReadFeature.ALLOW_NON_NUMERIC_NUMBERS` to allow\\n at [Source: (byte[])\"{\"ProductID\":10001211,\"ProductName\":\"Bvlgari women omnia cristalline eau de toilette 40 ml\",\"ProductBrand\":\"Bvlgari\",\"Gender\":\"Women\",\"Price (INR)\":5650,\"NumImages\":2,\"Description\":\"NOTESTOP REMARQUES: BAMBO AIRY ET FRUITS ASIAN EXOTIQUES NOSTES NOTHES: Lotus Blossombase Remarques: Élégant boisé\",\"PrimaryColor\":NaN,\"DescriptionVector\":[0.006906244438141584,0.008649297058582306,-0.013644919730722904,0.061419032514095306,-0.0025047592353075743,-0.020522665232419968,-0.021177595481276512,0.04598\"[truncated 16101 bytes]; line: 1, column: 320]')\n",
      "BadRequestError(400, 'document_parsing_exception', '[1:1376] failed to parse: [1:1394] Non-standard token \\'NaN\\': enable `JsonReadFeature.ALLOW_NON_NUMERIC_NUMBERS` to allow\\n at [Source: (byte[])\"{\"ProductID\":10002809,\"ProductName\":\"QRAA Men Pack de 2 face et barbe lavent 100 g\",\"ProductBrand\":\"Qraa Men\",\"Gender\":\"Men\",\"Price (INR)\":336,\"NumImages\":1,\"Description\":\"Qu\\'est-ce que c\\'est?Le visage revigorant de QRAA et le lavage à barbe sont formulés avec un étonnant mélange de plantes naturelles, de vitamines, d\\'antioxydants et de nettoyants pour nettoyer votre beau visage et votre barbe glorieuse sans trop sécher.Qraa Men Face and Beard Wash est un excellent ajout à tout régime de \"[truncated 17126 bytes]; line: 1, column: 1394]')\n",
      "BadRequestError(400, 'document_parsing_exception', '[1:295] failed to parse: [1:313] Non-standard token \\'NaN\\': enable `JsonReadFeature.ALLOW_NON_NUMERIC_NUMBERS` to allow\\n at [Source: (byte[])\"{\"ProductID\":10001573,\"ProductName\":\"Michael Kors Women Eau de Toilette 50 ml\",\"ProductBrand\":\"Michael Kors\",\"Gender\":\"Women\",\"Price (INR)\":5715,\"NumImages\":2,\"Description\":\"Notes de Nottop: Freesia, encens et chinois Osmanthushart Remarques: Base de root tuberose, lys, pivoine et Orris Root\",\"PrimaryColor\":NaN,\"DescriptionVector\":[0.012468494474887848,-0.04493008181452751,-0.017321527004241943,0.06416462361812592,-0.04632250964641571,0.021247023716568947,0.031569886952638626,0.02936028875410556\"[truncated 16058 bytes]; line: 1, column: 313]')\n",
      "BadRequestError(400, 'document_parsing_exception', '[1:446] failed to parse: [1:464] Non-standard token \\'NaN\\': enable `JsonReadFeature.ALLOW_NON_NUMERIC_NUMBERS` to allow\\n at [Source: (byte[])\"{\"ProductID\":10001445,\"ProductName\":\"Bvlgari Women Omnia Paraiba Eau de Toilette Perfume 65 ml\",\"ProductBrand\":\"Bvlgari\",\"Gender\":\"Women\",\"Price (INR)\":7000,\"NumImages\":2,\"Description\":\"Bvlgari Omnia Paraiba Eau de Toilette capture la myriade de parfums de notes florales, fruitées et tropicales.Caractéristiques: Notes de tête: Fruit de la passion, Bitter Orangeheart Notes: Passion Flower and Brazilian GardenaBase Notes: Etiver et Cocoa.\",\"PrimaryColor\":NaN,\"DescriptionVector\":[0.0742486342787\"[truncated 16228 bytes]; line: 1, column: 464]')\n",
      "BadRequestError(400, 'document_parsing_exception', '[1:271] failed to parse: [1:289] Non-standard token \\'NaN\\': enable `JsonReadFeature.ALLOW_NON_NUMERIC_NUMBERS` to allow\\n at [Source: (byte[])\"{\"ProductID\":10012733,\"ProductName\":\"Ensemble de décoration Miah de 2 bols en céramique\",\"ProductBrand\":\"MIAH Decor\",\"Gender\":\"Unisex\",\"Price (INR)\":989,\"NumImages\":4,\"Description\":\"Ensemble de 2 bols en céramique Modèle: Impriméfinish: glossymaterial: Céramique\",\"PrimaryColor\":NaN,\"DescriptionVector\":[0.015248055569827557,-0.07228062301874161,-0.016634725034236908,0.03099321573972702,-0.031030403450131416,0.0029244553297758102,0.010110766626894474,-0.03116079792380333,-0.02263378724455833\"[truncated 16050 bytes]; line: 1, column: 289]')\n",
      "BadRequestError(400, 'document_parsing_exception', '[1:254] failed to parse: [1:272] Non-standard token \\'NaN\\': enable `JsonReadFeature.ALLOW_NON_NUMERIC_NUMBERS` to allow\\n at [Source: (byte[])\"{\"ProductID\":10012335,\"ProductName\":\"Lakme Absolute Mattreal Mousse Conceller - Caramel 04 9 G\",\"ProductBrand\":\"Lakme\",\"Gender\":\"Women\",\"Price (INR)\":480,\"NumImages\":5,\"Description\":\"Lakme Absolute Mattreal Mousse Correcteur Nom de l\\'ombre: Caramel 04\",\"PrimaryColor\":NaN,\"DescriptionVector\":[0.02536827139556408,-0.07033432275056839,0.04274285212159157,0.0391436405479908,-0.014880874194204807,-0.061870794743299484,0.0009377060923725367,0.05830663815140724,-0.08369121700525284,-0.00660392548888921\"[truncated 16009 bytes]; line: 1, column: 272]')\n",
      "BadRequestError(400, 'document_parsing_exception', '[1:321] failed to parse: [1:339] Non-standard token \\'NaN\\': enable `JsonReadFeature.ALLOW_NON_NUMERIC_NUMBERS` to allow\\n at [Source: (byte[])\"{\"ProductID\":10001931,\"ProductName\":\"DAVID BECKHAM Men Respect Eau De Toilette 90 ml\",\"ProductBrand\":\"DAVID BECKHAM\",\"Gender\":\"Men\",\"Price (INR)\":1740,\"NumImages\":3,\"Description\":\"Notes de notost: pamplemousse, pastèque, rose Pepperheart Remarques: Cardamome, Lavendin, Basilbase Remarques: Vetiver, patchouli, mousse\",\"PrimaryColor\":NaN,\"DescriptionVector\":[0.01237912941724062,-0.030456731095910072,0.0020593225490301847,0.05844220146536827,-0.03392673283815384,-0.01505823154002428,0.017450438812\"[truncated 16065 bytes]; line: 1, column: 339]')\n",
      "BadRequestError(400, 'document_parsing_exception', '[1:355] failed to parse: [1:373] Non-standard token \\'NaN\\': enable `JsonReadFeature.ALLOW_NON_NUMERIC_NUMBERS` to allow\\n at [Source: (byte[])\"{\"ProductID\":10014735,\"ProductName\":\"Avec des hommes pack de 2 boxeurs en coton pur imprimé WB43-WB54\",\"ProductBrand\":\"WITH\",\"Gender\":\"Men\",\"Price (INR)\":612,\"NumImages\":5,\"Description\":\"Pack de deux boxeurs à ajustement régulier imprimé en vert et bleu, chacun a une ceinture élastique intérieure, une mouche boutonnée, une fermeture à enfiler\",\"PrimaryColor\":NaN,\"DescriptionVector\":[-0.03744006156921387,-0.037987999618053436,0.011106724850833416,0.02810688130557537,-0.06045960634946823,-\"[truncated 16127 bytes]; line: 1, column: 373]')\n",
      "BadRequestError(400, 'document_parsing_exception', '[1:508] failed to parse: [1:526] Non-standard token \\'NaN\\': enable `JsonReadFeature.ALLOW_NON_NUMERIC_NUMBERS` to allow\\n at [Source: (byte[])\"{\"ProductID\":10002767,\"ProductName\":\"Rozia Women Hair Dryer HC8307\",\"ProductBrand\":\"Rozia\",\"Gender\":\"Women\",\"Price (INR)\":1091,\"NumImages\":5,\"Description\":\"Qu\\'est-ce que c\\'est?Vos cheveux en boucle de forme de forme pour un rangement facile: le sèche-cheveux de voyage a un gardien de boucle suspendu pour un stockage pratique et une variété d\\'options de placement filtrant amovible: le filtre à air amovible maintient votre séchoir à travailler à une efficacité maximale et est facile à net\"[truncated 16248 bytes]; line: 1, column: 526]')\n",
      "BadRequestError(400, 'document_parsing_exception', '[1:373] failed to parse: [1:391] Non-standard token \\'NaN\\': enable `JsonReadFeature.ALLOW_NON_NUMERIC_NUMBERS` to allow\\n at [Source: (byte[])\"{\"ProductID\":10000751,\"ProductName\":\"Lady Lyka Women Pack de 2 débutants adolescents de soutien-gorge-skn-blk\",\"ProductBrand\":\"Lady Lyka\",\"Gender\":\"Women\",\"Price (INR)\":425,\"NumImages\":5,\"Description\":\"Black and Beige Solide Solid Medium Coverage Beginners Brasnon rembourré et non câblé et les sangles de coussinets de couture et le style de fermeture du dos: Ferme\",\"PrimaryColor\":NaN,\"DescriptionVector\":[-0.011352752335369587,-0.04329261556267738,0.005035668611526489,-0.00455142417922616,-0.\"[truncated 16154 bytes]; line: 1, column: 391]')\n",
      "BadRequestError(400, 'document_parsing_exception', '[1:226] failed to parse: [1:244] Non-standard token \\'NaN\\': enable `JsonReadFeature.ALLOW_NON_NUMERIC_NUMBERS` to allow\\n at [Source: (byte[])\"{\"ProductID\":10016003,\"ProductName\":\"Tokyo talkies Women Teal floral imprimé peplum top\",\"ProductBrand\":\"Tokyo Talkies\",\"Gender\":\"Women\",\"Price (INR)\":699,\"NumImages\":5,\"Description\":\"Ajustement de péplum imprimé en tube\",\"PrimaryColor\":NaN,\"DescriptionVector\":[-0.010848556645214558,-0.09922148287296295,-0.034403130412101746,0.020273732021450996,-0.05775904282927513,-0.02677837386727333,0.01471735816448927,0.008896064944565296,-0.006052657030522823,0.01602807827293873,0.010919205844402313,-0.\"[truncated 15969 bytes]; line: 1, column: 244]')\n",
      "BadRequestError(400, 'document_parsing_exception', '[1:244] failed to parse: [1:262] Non-standard token \\'NaN\\': enable `JsonReadFeature.ALLOW_NON_NUMERIC_NUMBERS` to allow\\n at [Source: (byte[])\"{\"ProductID\":10012363,\"ProductName\":\"Lakme 9to5 Eye Quartet Eyeshadow - Royal Peacock 7 g\",\"ProductBrand\":\"Lakme\",\"Gender\":\"Women\",\"Price (INR)\":520,\"NumImages\":5,\"Description\":\"Lakme 9to5 Eye Quartet à fard à paupières Nom: Royal Peacock\",\"PrimaryColor\":NaN,\"DescriptionVector\":[0.03169984370470047,0.04688810557126999,0.0037279692478477955,0.06719236820936203,-0.04945187643170357,-0.00579142477363348,-0.043012335896492004,0.04922625795006752,-0.08022838085889816,-0.05194726586341858,-0.016249\"[truncated 15999 bytes]; line: 1, column: 262]')\n"
     ]
    }
   ],
   "source": [
    "from elasticsearch import Elasticsearch\n",
    "from index_mapping import index_mapping\n",
    "import config\n",
    "\n",
    "es = Elasticsearch(\n",
    "    hosts=config.HOSTS,\n",
    "    basic_auth=config.HTTP_AUTH,\n",
    "    ca_certs=config.CA_CERTS,\n",
    "    verify_certs=config.VERIFY_CERTS)\n",
    "\n",
    "es.indices.create(index=\"french_products\", mappings=index_mapping)\n",
    "\n",
    "\n",
    "record_list = df.to_dict(\"records\")\n",
    "\n",
    "\n",
    "for record in record_list:\n",
    "    try:\n",
    "        es.index(index=\"french_products\", document=record, id=record[\"ProductID\"])\n",
    "    except Exception as e:\n",
    "        print(e)"
   ],
   "metadata": {
    "collapsed": false,
    "ExecuteTime": {
     "end_time": "2023-12-16T18:51:18.952975900Z",
     "start_time": "2023-12-16T18:51:15.018564Z"
    }
   },
   "id": "e6bedd76244e73f3"
  },
  {
   "cell_type": "code",
   "execution_count": 17,
   "outputs": [
    {
     "data": {
      "text/plain": "     ProductID                                        ProductName  \\\n0     10017413  DKNY Sac de chariot moyen imprimé noir unisexe...   \n1     10016283  Ethnovogue femmes beige et gris conçues pour m...   \n2     10009781  Spykar Femmes Pink Alexa Super Skinny Fit Righ...   \n3     10015921  Raymond Men Blue Self-conception Single Bandhg...   \n4     10017833  Parx Men Brown & Off-White Slim Fit Imprimé Ca...   \n..         ...                                                ...   \n295   10012823  SEJ par Nisha Gupta Set de 4 places de classem...   \n296   10007763  elle par invictus femmes noires solides amorti...   \n297   10012363  Lakme 9to5 Eye Quartet Eyeshadow - Royal Peaco...   \n298   10003801  Lampe de table artisanale à la main à la maiso...   \n299   10009623  Spykar Femmes Blue Adora Skinny Fit Rid-Rise L...   \n\n           ProductBrand  Gender  Price (INR)  NumImages  \\\n0                  DKNY  Unisex        11745          7   \n1            EthnoVogue   Women         5810          7   \n2                SPYKAR   Women          899          7   \n3               Raymond     Men         5599          5   \n4                  Parx     Men          759          5   \n..                  ...     ...          ...        ...   \n295  SEJ by Nisha Gupta  Unisex          799          4   \n296     her by invictus   Women         1999          6   \n297               Lakme   Women          520          5   \n298            Homesake  Unisex         1620          5   \n299              SPYKAR   Women         1079          7   \n\n                                           Description PrimaryColor  \\\n0    Le sac de chariot moyen imprimé noir et gris, ...        Black   \n1    Beige et gris conçu pour mesurer la kurta avec...        Beige   \n2    Jean rose lavé de 5 poches de lavage de 5 poch...         Pink   \n3    Bandhgala Blazer Bandhgala Bandhgala Bandhgala...         Blue   \n4    Shirt décontracté imprimé marron et blanc cass...        White   \n..                                                 ...          ...   \n295  Définir le contenu: 4 Table Matshape: Rectangl...          Red   \n296  Une paire de derbys noirs pointés avec une dou...        Black   \n297  Lakme 9to5 Eye Quartet à fard à paupières Nom:...          NaN   \n298  Type: lampe de table fabriquée à la main avec ...          Red   \n299  Un jean de grande hauteur de lavage à 5 poches...         Blue   \n\n                                     DescriptionVector  \n0    [-0.008115746, -0.009088835, 0.0151694305, 0.0...  \n1    [-0.0055028195, -0.048651222, 0.008549504, 0.0...  \n2    [0.05077256, 0.0058534606, 0.029050259, 0.0526...  \n3    [-0.003370208, -0.020926373, 0.0014939484, -0....  \n4    [-0.015490549, -0.0268768, 0.029493883, 0.0615...  \n..                                                 ...  \n295  [-0.01977813, -0.08383222, -0.00078017084, 0.0...  \n296  [-0.030530008, -0.051698297, 0.031014455, 0.05...  \n297  [0.031699844, 0.046888106, 0.0037279692, 0.067...  \n298  [0.048458092, -0.06649236, -0.014136845, 0.062...  \n299  [0.05448599, -0.00025843206, 0.034185737, 0.03...  \n\n[300 rows x 9 columns]",
      "text/html": "<div>\n<style scoped>\n    .dataframe tbody tr th:only-of-type {\n        vertical-align: middle;\n    }\n\n    .dataframe tbody tr th {\n        vertical-align: top;\n    }\n\n    .dataframe thead th {\n        text-align: right;\n    }\n</style>\n<table border=\"1\" class=\"dataframe\">\n  <thead>\n    <tr style=\"text-align: right;\">\n      <th></th>\n      <th>ProductID</th>\n      <th>ProductName</th>\n      <th>ProductBrand</th>\n      <th>Gender</th>\n      <th>Price (INR)</th>\n      <th>NumImages</th>\n      <th>Description</th>\n      <th>PrimaryColor</th>\n      <th>DescriptionVector</th>\n    </tr>\n  </thead>\n  <tbody>\n    <tr>\n      <th>0</th>\n      <td>10017413</td>\n      <td>DKNY Sac de chariot moyen imprimé noir unisexe...</td>\n      <td>DKNY</td>\n      <td>Unisex</td>\n      <td>11745</td>\n      <td>7</td>\n      <td>Le sac de chariot moyen imprimé noir et gris, ...</td>\n      <td>Black</td>\n      <td>[-0.008115746, -0.009088835, 0.0151694305, 0.0...</td>\n    </tr>\n    <tr>\n      <th>1</th>\n      <td>10016283</td>\n      <td>Ethnovogue femmes beige et gris conçues pour m...</td>\n      <td>EthnoVogue</td>\n      <td>Women</td>\n      <td>5810</td>\n      <td>7</td>\n      <td>Beige et gris conçu pour mesurer la kurta avec...</td>\n      <td>Beige</td>\n      <td>[-0.0055028195, -0.048651222, 0.008549504, 0.0...</td>\n    </tr>\n    <tr>\n      <th>2</th>\n      <td>10009781</td>\n      <td>Spykar Femmes Pink Alexa Super Skinny Fit Righ...</td>\n      <td>SPYKAR</td>\n      <td>Women</td>\n      <td>899</td>\n      <td>7</td>\n      <td>Jean rose lavé de 5 poches de lavage de 5 poch...</td>\n      <td>Pink</td>\n      <td>[0.05077256, 0.0058534606, 0.029050259, 0.0526...</td>\n    </tr>\n    <tr>\n      <th>3</th>\n      <td>10015921</td>\n      <td>Raymond Men Blue Self-conception Single Bandhg...</td>\n      <td>Raymond</td>\n      <td>Men</td>\n      <td>5599</td>\n      <td>5</td>\n      <td>Bandhgala Blazer Bandhgala Bandhgala Bandhgala...</td>\n      <td>Blue</td>\n      <td>[-0.003370208, -0.020926373, 0.0014939484, -0....</td>\n    </tr>\n    <tr>\n      <th>4</th>\n      <td>10017833</td>\n      <td>Parx Men Brown &amp; Off-White Slim Fit Imprimé Ca...</td>\n      <td>Parx</td>\n      <td>Men</td>\n      <td>759</td>\n      <td>5</td>\n      <td>Shirt décontracté imprimé marron et blanc cass...</td>\n      <td>White</td>\n      <td>[-0.015490549, -0.0268768, 0.029493883, 0.0615...</td>\n    </tr>\n    <tr>\n      <th>...</th>\n      <td>...</td>\n      <td>...</td>\n      <td>...</td>\n      <td>...</td>\n      <td>...</td>\n      <td>...</td>\n      <td>...</td>\n      <td>...</td>\n      <td>...</td>\n    </tr>\n    <tr>\n      <th>295</th>\n      <td>10012823</td>\n      <td>SEJ par Nisha Gupta Set de 4 places de classem...</td>\n      <td>SEJ by Nisha Gupta</td>\n      <td>Unisex</td>\n      <td>799</td>\n      <td>4</td>\n      <td>Définir le contenu: 4 Table Matshape: Rectangl...</td>\n      <td>Red</td>\n      <td>[-0.01977813, -0.08383222, -0.00078017084, 0.0...</td>\n    </tr>\n    <tr>\n      <th>296</th>\n      <td>10007763</td>\n      <td>elle par invictus femmes noires solides amorti...</td>\n      <td>her by invictus</td>\n      <td>Women</td>\n      <td>1999</td>\n      <td>6</td>\n      <td>Une paire de derbys noirs pointés avec une dou...</td>\n      <td>Black</td>\n      <td>[-0.030530008, -0.051698297, 0.031014455, 0.05...</td>\n    </tr>\n    <tr>\n      <th>297</th>\n      <td>10012363</td>\n      <td>Lakme 9to5 Eye Quartet Eyeshadow - Royal Peaco...</td>\n      <td>Lakme</td>\n      <td>Women</td>\n      <td>520</td>\n      <td>5</td>\n      <td>Lakme 9to5 Eye Quartet à fard à paupières Nom:...</td>\n      <td>NaN</td>\n      <td>[0.031699844, 0.046888106, 0.0037279692, 0.067...</td>\n    </tr>\n    <tr>\n      <th>298</th>\n      <td>10003801</td>\n      <td>Lampe de table artisanale à la main à la maiso...</td>\n      <td>Homesake</td>\n      <td>Unisex</td>\n      <td>1620</td>\n      <td>5</td>\n      <td>Type: lampe de table fabriquée à la main avec ...</td>\n      <td>Red</td>\n      <td>[0.048458092, -0.06649236, -0.014136845, 0.062...</td>\n    </tr>\n    <tr>\n      <th>299</th>\n      <td>10009623</td>\n      <td>Spykar Femmes Blue Adora Skinny Fit Rid-Rise L...</td>\n      <td>SPYKAR</td>\n      <td>Women</td>\n      <td>1079</td>\n      <td>7</td>\n      <td>Un jean de grande hauteur de lavage à 5 poches...</td>\n      <td>Blue</td>\n      <td>[0.05448599, -0.00025843206, 0.034185737, 0.03...</td>\n    </tr>\n  </tbody>\n</table>\n<p>300 rows × 9 columns</p>\n</div>"
     },
     "execution_count": 17,
     "metadata": {},
     "output_type": "execute_result"
    }
   ],
   "source": [
    "df"
   ],
   "metadata": {
    "collapsed": false,
    "ExecuteTime": {
     "end_time": "2023-12-16T18:55:28.155529900Z",
     "start_time": "2023-12-16T18:55:28.140813800Z"
    }
   },
   "id": "25f43c97c84240bc"
  }
 ],
 "metadata": {
  "kernelspec": {
   "display_name": "Python 3",
   "language": "python",
   "name": "python3"
  },
  "language_info": {
   "codemirror_mode": {
    "name": "ipython",
    "version": 2
   },
   "file_extension": ".py",
   "mimetype": "text/x-python",
   "name": "python",
   "nbconvert_exporter": "python",
   "pygments_lexer": "ipython2",
   "version": "2.7.6"
  }
 },
 "nbformat": 4,
 "nbformat_minor": 5
}
