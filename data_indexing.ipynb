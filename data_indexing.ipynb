{
 "cells": [
  {
   "cell_type": "code",
   "execution_count": 2,
   "id": "initial_id",
   "metadata": {
    "collapsed": true,
    "ExecuteTime": {
     "end_time": "2023-12-13T20:25:24.447176700Z",
     "start_time": "2023-12-13T20:25:24.218723700Z"
    }
   },
   "outputs": [],
   "source": [
    "from elasticsearch import Elasticsearch\n",
    "import config"
   ]
  },
  {
   "cell_type": "code",
   "execution_count": 3,
   "id": "79d077de1438cac8",
   "metadata": {
    "collapsed": false,
    "ExecuteTime": {
     "end_time": "2023-12-13T20:25:25.242607900Z",
     "start_time": "2023-12-13T20:25:25.135865600Z"
    }
   },
   "outputs": [],
   "source": [
    "es = Elasticsearch(\n",
    "    hosts=config.HOSTS,\n",
    "    basic_auth=config.HTTP_AUTH,\n",
    "    ca_certs=config.CA_CERTS,\n",
    "    verify_certs=config.VERIFY_CERTS)"
   ]
  },
  {
   "cell_type": "markdown",
   "id": "54cfcf31abb77684",
   "metadata": {
    "collapsed": false
   },
   "source": [
    "## Prepare the data"
   ]
  },
  {
   "cell_type": "code",
   "execution_count": 4,
   "id": "5acd30453e5e2920",
   "metadata": {
    "collapsed": false,
    "ExecuteTime": {
     "end_time": "2023-12-13T20:25:33.032001600Z",
     "start_time": "2023-12-13T20:25:32.275375Z"
    }
   },
   "outputs": [
    {
     "data": {
      "text/plain": "   ProductID                                        ProductName ProductBrand  \\\n0   10017413  DKNY Unisex Black & Grey Printed Medium Trolle...         DKNY   \n1   10016283  EthnoVogue Women Beige & Grey Made to Measure ...   EthnoVogue   \n2   10009781  SPYKAR Women Pink Alexa Super Skinny Fit High-...       SPYKAR   \n3   10015921  Raymond Men Blue Self-Design Single-Breasted B...      Raymond   \n4   10017833  Parx Men Brown & Off-White Slim Fit Printed Ca...         Parx   \n\n   Gender  Price (INR)  NumImages  \\\n0  Unisex        11745          7   \n1   Women         5810          7   \n2   Women          899          7   \n3     Men         5599          5   \n4     Men          759          5   \n\n                                         Description PrimaryColor  \n0  Black and grey printed medium trolley bag, sec...        Black  \n1  Beige & Grey made to measure kurta with churid...        Beige  \n2  Pink coloured wash 5-pocket high-rise cropped ...         Pink  \n3  Blue self-design bandhgala suitBlue self-desig...         Blue  \n4  Brown and off-white printed casual shirt, has ...        White  ",
      "text/html": "<div>\n<style scoped>\n    .dataframe tbody tr th:only-of-type {\n        vertical-align: middle;\n    }\n\n    .dataframe tbody tr th {\n        vertical-align: top;\n    }\n\n    .dataframe thead th {\n        text-align: right;\n    }\n</style>\n<table border=\"1\" class=\"dataframe\">\n  <thead>\n    <tr style=\"text-align: right;\">\n      <th></th>\n      <th>ProductID</th>\n      <th>ProductName</th>\n      <th>ProductBrand</th>\n      <th>Gender</th>\n      <th>Price (INR)</th>\n      <th>NumImages</th>\n      <th>Description</th>\n      <th>PrimaryColor</th>\n    </tr>\n  </thead>\n  <tbody>\n    <tr>\n      <th>0</th>\n      <td>10017413</td>\n      <td>DKNY Unisex Black &amp; Grey Printed Medium Trolle...</td>\n      <td>DKNY</td>\n      <td>Unisex</td>\n      <td>11745</td>\n      <td>7</td>\n      <td>Black and grey printed medium trolley bag, sec...</td>\n      <td>Black</td>\n    </tr>\n    <tr>\n      <th>1</th>\n      <td>10016283</td>\n      <td>EthnoVogue Women Beige &amp; Grey Made to Measure ...</td>\n      <td>EthnoVogue</td>\n      <td>Women</td>\n      <td>5810</td>\n      <td>7</td>\n      <td>Beige &amp; Grey made to measure kurta with churid...</td>\n      <td>Beige</td>\n    </tr>\n    <tr>\n      <th>2</th>\n      <td>10009781</td>\n      <td>SPYKAR Women Pink Alexa Super Skinny Fit High-...</td>\n      <td>SPYKAR</td>\n      <td>Women</td>\n      <td>899</td>\n      <td>7</td>\n      <td>Pink coloured wash 5-pocket high-rise cropped ...</td>\n      <td>Pink</td>\n    </tr>\n    <tr>\n      <th>3</th>\n      <td>10015921</td>\n      <td>Raymond Men Blue Self-Design Single-Breasted B...</td>\n      <td>Raymond</td>\n      <td>Men</td>\n      <td>5599</td>\n      <td>5</td>\n      <td>Blue self-design bandhgala suitBlue self-desig...</td>\n      <td>Blue</td>\n    </tr>\n    <tr>\n      <th>4</th>\n      <td>10017833</td>\n      <td>Parx Men Brown &amp; Off-White Slim Fit Printed Ca...</td>\n      <td>Parx</td>\n      <td>Men</td>\n      <td>759</td>\n      <td>5</td>\n      <td>Brown and off-white printed casual shirt, has ...</td>\n      <td>White</td>\n    </tr>\n  </tbody>\n</table>\n</div>"
     },
     "execution_count": 4,
     "metadata": {},
     "output_type": "execute_result"
    }
   ],
   "source": [
    "import pandas as pd\n",
    "\n",
    "df = pd.read_csv(\"myntra_products_catalog.csv\").loc[:499]\n",
    "df.head()\n"
   ]
  },
  {
   "cell_type": "code",
   "execution_count": 5,
   "id": "f2b718aa1cca5b9",
   "metadata": {
    "collapsed": false,
    "ExecuteTime": {
     "end_time": "2023-12-13T20:25:34.260890700Z",
     "start_time": "2023-12-13T20:25:34.239372600Z"
    }
   },
   "outputs": [
    {
     "data": {
      "text/plain": "ProductID  ProductName  ProductBrand  Gender  Price (INR)  NumImages  Description  PrimaryColor\nFalse      False        False         False   False        False      False        False           468\n                                                                                   True             32\nName: count, dtype: int64"
     },
     "execution_count": 5,
     "metadata": {},
     "output_type": "execute_result"
    }
   ],
   "source": [
    "df.isna().value_counts()"
   ]
  },
  {
   "cell_type": "code",
   "execution_count": 6,
   "id": "bef8edc83307670e",
   "metadata": {
    "collapsed": false,
    "ExecuteTime": {
     "end_time": "2023-12-13T20:25:36.953310900Z",
     "start_time": "2023-12-13T20:25:36.944045900Z"
    }
   },
   "outputs": [],
   "source": [
    "df.fillna(\"None\", inplace=True)"
   ]
  },
  {
   "cell_type": "markdown",
   "id": "9c5f625e9a38457a",
   "metadata": {
    "collapsed": false
   },
   "source": [
    "## Convert the relevant field to Vector using BERT Model"
   ]
  },
  {
   "cell_type": "code",
   "execution_count": 7,
   "id": "2136d8b1ddda9df7",
   "metadata": {
    "collapsed": false,
    "ExecuteTime": {
     "end_time": "2023-12-13T20:25:44.576668100Z",
     "start_time": "2023-12-13T20:25:38.799389700Z"
    }
   },
   "outputs": [],
   "source": [
    "from sentence_transformers import SentenceTransformer\n",
    "\n",
    "model = SentenceTransformer(\"all-mpnet-base-v2\")"
   ]
  },
  {
   "cell_type": "code",
   "execution_count": 8,
   "id": "a7e1fe5809fa46da",
   "metadata": {
    "collapsed": false,
    "ExecuteTime": {
     "end_time": "2023-12-13T20:26:07.475198400Z",
     "start_time": "2023-12-13T20:25:47.500852500Z"
    }
   },
   "outputs": [],
   "source": [
    "df[\"DescriptionVector\"] = df[\"Description\"].apply(lambda x: model.encode(x))"
   ]
  },
  {
   "cell_type": "markdown",
   "id": "f6675caed5b8a047",
   "metadata": {
    "collapsed": false
   },
   "source": [
    "## Create new index in Elasticsearch"
   ]
  },
  {
   "cell_type": "code",
   "execution_count": 13,
   "id": "61815b53f19035a0",
   "metadata": {
    "ExecuteTime": {
     "end_time": "2023-12-13T20:08:31.179012400Z",
     "start_time": "2023-12-13T20:08:30.855650100Z"
    },
    "collapsed": false
   },
   "outputs": [
    {
     "data": {
      "text/plain": [
       "ObjectApiResponse({'acknowledged': True, 'shards_acknowledged': True, 'index': 'all_products'})"
      ]
     },
     "execution_count": 13,
     "metadata": {},
     "output_type": "execute_result"
    }
   ],
   "source": [
    "from index_mapping import index_mapping\n",
    "\n",
    "es.indices.create(index=\"all_products\", mappings=index_mapping)"
   ]
  },
  {
   "cell_type": "markdown",
   "id": "9bc020ab5545114e",
   "metadata": {
    "collapsed": false
   },
   "source": [
    "## Ingest the data into index"
   ]
  },
  {
   "cell_type": "code",
   "execution_count": 9,
   "id": "6ef7547b94688e8",
   "metadata": {
    "collapsed": false,
    "ExecuteTime": {
     "end_time": "2023-12-13T20:26:07.504595900Z",
     "start_time": "2023-12-13T20:26:07.476198400Z"
    }
   },
   "outputs": [],
   "source": [
    "record_list = df.to_dict(\"records\")"
   ]
  },
  {
   "cell_type": "code",
   "execution_count": 17,
   "id": "62097879ed196d8",
   "metadata": {
    "ExecuteTime": {
     "end_time": "2023-12-13T20:14:44.939397100Z",
     "start_time": "2023-12-13T20:14:39.330069800Z"
    },
    "collapsed": false
   },
   "outputs": [],
   "source": [
    "for record in record_list:\n",
    "    try:\n",
    "        es.index(index=\"all_products\", document=record, id=record[\"ProductID\"])\n",
    "    except Exception as e:\n",
    "        print(e)"
   ]
  },
  {
   "cell_type": "markdown",
   "id": "25399bab5ade3e4c",
   "metadata": {
    "collapsed": false
   },
   "source": [
    "## Search the data"
   ]
  },
  {
   "cell_type": "code",
   "execution_count": 13,
   "id": "67da1af3a59ed7a5",
   "metadata": {
    "collapsed": false,
    "ExecuteTime": {
     "end_time": "2023-12-13T20:30:02.193399600Z",
     "start_time": "2023-12-13T20:30:02.106595900Z"
    }
   },
   "outputs": [
    {
     "name": "stderr",
     "output_type": "stream",
     "text": [
      "C:\\Users\\Aaron\\AppData\\Local\\Temp\\ipykernel_4560\\661817962.py:12: ElasticsearchWarning: The kNN search API has been replaced by the `knn` option in the search API.\n",
      "  res = es.knn_search(index=\"all_products\", knn=query, source=[\"ProductName\", \"Description\"])\n"
     ]
    },
    {
     "data": {
      "text/plain": "[{'_index': 'all_products',\n  '_id': '10018013',\n  '_score': 0.6142942,\n  '_source': {'ProductName': 'Puma Men Blue Sneakers',\n   'Description': 'A pair of round-toe blue sneakers, has regular styling, lace-up detailTextile upperCushioned footbedTextured and patterned outsoleWarranty: 3 monthsWarranty provided by brand/manufacturer'}},\n {'_index': 'all_products',\n  '_id': '10018075',\n  '_score': 0.6142942,\n  '_source': {'ProductName': 'Puma Men Blue Sneakers',\n   'Description': 'A pair of round-toe blue sneakers, has regular styling, lace-up detailTextile upperCushioned footbedTextured and patterned outsoleWarranty: 3 monthsWarranty provided by brand/manufacturer'}}]"
     },
     "execution_count": 13,
     "metadata": {},
     "output_type": "execute_result"
    }
   ],
   "source": [
    "input_keyword = \"Blue Shoes\"\n",
    "vector_of_input_keyword = model.encode(input_keyword)\n",
    "\n",
    "\n",
    "query = {\n",
    "    \"field\": \"DescriptionVector\",\n",
    "    \"query_vector\": vector_of_input_keyword,\n",
    "    \"k\": 2,\n",
    "    \"num_candidates\": 500,\n",
    "}\n",
    "\n",
    "res = es.knn_search(index=\"all_products\", knn=query, source=[\"ProductName\", \"Description\"])\n",
    "res[\"hits\"][\"hits\"]"
   ]
  }
 ],
 "metadata": {
  "kernelspec": {
   "display_name": "Python 3",
   "language": "python",
   "name": "python3"
  },
  "language_info": {
   "codemirror_mode": {
    "name": "ipython",
    "version": 2
   },
   "file_extension": ".py",
   "mimetype": "text/x-python",
   "name": "python",
   "nbconvert_exporter": "python",
   "pygments_lexer": "ipython2",
   "version": "2.7.6"
  }
 },
 "nbformat": 4,
 "nbformat_minor": 5
}
