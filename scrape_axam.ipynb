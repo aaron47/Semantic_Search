{
 "cells": [
  {
   "cell_type": "markdown",
   "source": [
    "## Import necessary libraries"
   ],
   "metadata": {
    "collapsed": false
   },
   "id": "27dab045f76ca5c4"
  },
  {
   "cell_type": "code",
   "execution_count": 1,
   "outputs": [],
   "source": [
    "import requests\n",
    "import pandas as pd\n",
    "from bs4 import BeautifulSoup"
   ],
   "metadata": {
    "collapsed": true,
    "ExecuteTime": {
     "end_time": "2023-12-14T14:32:34.866997800Z",
     "start_time": "2023-12-14T14:32:34.554669500Z"
    }
   },
   "id": "initial_id"
  },
  {
   "cell_type": "markdown",
   "source": [
    "## Fetch website"
   ],
   "metadata": {
    "collapsed": false
   },
   "id": "8ba7d915092c1461"
  },
  {
   "cell_type": "code",
   "execution_count": 33,
   "outputs": [],
   "source": [
    "url = 'https://www.3afssus.com/'\n",
    "response = requests.get(url)\n",
    "\n",
    "if response.status_code >= 200:\n",
    "    html_content = response.text\n",
    "else:\n",
    "    raise Exception('Something went wrong')"
   ],
   "metadata": {
    "collapsed": false,
    "ExecuteTime": {
     "end_time": "2023-12-14T13:56:06.175692700Z",
     "start_time": "2023-12-14T13:56:04.815785800Z"
    }
   },
   "id": "3612be5d1757fda8"
  },
  {
   "cell_type": "markdown",
   "source": [
    "## Scrape Home Page"
   ],
   "metadata": {
    "collapsed": false
   },
   "id": "2cfda4811279a5c1"
  },
  {
   "cell_type": "code",
   "execution_count": 54,
   "outputs": [],
   "source": [
    "soup = BeautifulSoup(html_content, 'html.parser')\n",
    "\n",
    "titles = soup.find_all(attrs={'class': 'item-title'})\n",
    "\n",
    "product_titles = [title.text.strip() for title in titles]\n",
    "\n",
    "df = pd.DataFrame(product_titles, columns=[\"Titre\"])\n",
    "df.to_csv('produits.csv', index=False)"
   ],
   "metadata": {
    "collapsed": false,
    "ExecuteTime": {
     "end_time": "2023-12-14T14:23:59.129421600Z",
     "start_time": "2023-12-14T14:23:59.074852800Z"
    }
   },
   "id": "19d7368acdc1518b"
  },
  {
   "cell_type": "code",
   "execution_count": 56,
   "outputs": [
    {
     "data": {
      "text/plain": "                                                Titre\n0     Generic Sac à Dos 5 En 1 Pour fille - Noir - 46\n1    STR Aspirateur de voiture 12V - Puissance 4500pa\n2   Sac à Dos Scolaire & camping - حجم صغير - Rose...\n3   Sac à Dos Scolaire & camping - حجم صغير - Gris...\n4   Sac à Dos Scolaire & camping - حجم صغير - Roug...\n5         Sac à Dos 4 En 1 Pour Fille - Jaune & Blanc\n6          Sac à Dos 4 En 1 Pour Fille - Rose & Blanc\n7          Sac à Dos 4 En 1 Pour Fille - Noir & Rouge\n8          Sac à Dos 4 En 1 Pour Fille - Vert & blanc\n9                Sac à Dos 5 En 1 Pour Fille - Bleu 2\n10               Sac à Dos 5 En 1 Pour Fille - Noir 2\n11               Sac à Dos 5 En 1 Pour Fille - Rose 2\n12                Sac à Dos 5 En 1 Pour Fille - Beige\n13                 Sac à Dos 5 En 1 Pour Fille - Bleu\n14                 Sac à Dos 5 En 1 Pour Fille - Rose\n15            Sac à Dos 5 En 1 Pour Fille - Noir - 44\n16              Bubble Gun - Pistolet à Bulles - Rose\n17              Bubble Gun - Pistolet à Bulles - Noir\n18  Pack 2 Moustiquaires Installation Rapide - Mag...\n19  Moustiquaires Installation Rapide - Magnétique...",
      "text/html": "<div>\n<style scoped>\n    .dataframe tbody tr th:only-of-type {\n        vertical-align: middle;\n    }\n\n    .dataframe tbody tr th {\n        vertical-align: top;\n    }\n\n    .dataframe thead th {\n        text-align: right;\n    }\n</style>\n<table border=\"1\" class=\"dataframe\">\n  <thead>\n    <tr style=\"text-align: right;\">\n      <th></th>\n      <th>Titre</th>\n    </tr>\n  </thead>\n  <tbody>\n    <tr>\n      <th>0</th>\n      <td>Generic Sac à Dos 5 En 1 Pour fille - Noir - 46</td>\n    </tr>\n    <tr>\n      <th>1</th>\n      <td>STR Aspirateur de voiture 12V - Puissance 4500pa</td>\n    </tr>\n    <tr>\n      <th>2</th>\n      <td>Sac à Dos Scolaire &amp; camping - حجم صغير - Rose...</td>\n    </tr>\n    <tr>\n      <th>3</th>\n      <td>Sac à Dos Scolaire &amp; camping - حجم صغير - Gris...</td>\n    </tr>\n    <tr>\n      <th>4</th>\n      <td>Sac à Dos Scolaire &amp; camping - حجم صغير - Roug...</td>\n    </tr>\n    <tr>\n      <th>5</th>\n      <td>Sac à Dos 4 En 1 Pour Fille - Jaune &amp; Blanc</td>\n    </tr>\n    <tr>\n      <th>6</th>\n      <td>Sac à Dos 4 En 1 Pour Fille - Rose &amp; Blanc</td>\n    </tr>\n    <tr>\n      <th>7</th>\n      <td>Sac à Dos 4 En 1 Pour Fille - Noir &amp; Rouge</td>\n    </tr>\n    <tr>\n      <th>8</th>\n      <td>Sac à Dos 4 En 1 Pour Fille - Vert &amp; blanc</td>\n    </tr>\n    <tr>\n      <th>9</th>\n      <td>Sac à Dos 5 En 1 Pour Fille - Bleu 2</td>\n    </tr>\n    <tr>\n      <th>10</th>\n      <td>Sac à Dos 5 En 1 Pour Fille - Noir 2</td>\n    </tr>\n    <tr>\n      <th>11</th>\n      <td>Sac à Dos 5 En 1 Pour Fille - Rose 2</td>\n    </tr>\n    <tr>\n      <th>12</th>\n      <td>Sac à Dos 5 En 1 Pour Fille - Beige</td>\n    </tr>\n    <tr>\n      <th>13</th>\n      <td>Sac à Dos 5 En 1 Pour Fille - Bleu</td>\n    </tr>\n    <tr>\n      <th>14</th>\n      <td>Sac à Dos 5 En 1 Pour Fille - Rose</td>\n    </tr>\n    <tr>\n      <th>15</th>\n      <td>Sac à Dos 5 En 1 Pour Fille - Noir - 44</td>\n    </tr>\n    <tr>\n      <th>16</th>\n      <td>Bubble Gun - Pistolet à Bulles - Rose</td>\n    </tr>\n    <tr>\n      <th>17</th>\n      <td>Bubble Gun - Pistolet à Bulles - Noir</td>\n    </tr>\n    <tr>\n      <th>18</th>\n      <td>Pack 2 Moustiquaires Installation Rapide - Mag...</td>\n    </tr>\n    <tr>\n      <th>19</th>\n      <td>Moustiquaires Installation Rapide - Magnétique...</td>\n    </tr>\n  </tbody>\n</table>\n</div>"
     },
     "execution_count": 56,
     "metadata": {},
     "output_type": "execute_result"
    }
   ],
   "source": [
    "df"
   ],
   "metadata": {
    "collapsed": false,
    "ExecuteTime": {
     "end_time": "2023-12-14T14:28:33.931107500Z",
     "start_time": "2023-12-14T14:28:33.903560900Z"
    }
   },
   "id": "2ea37e804371e4df"
  },
  {
   "cell_type": "markdown",
   "source": [
    "## Scrape Cuisine Category"
   ],
   "metadata": {
    "collapsed": false
   },
   "id": "f47ea8363b18ff4d"
  },
  {
   "cell_type": "code",
   "execution_count": 2,
   "outputs": [],
   "source": [
    "cuisine_url = \"https://www.3afssus.com/s/11/cuisine\"\n",
    "\n",
    "response = requests.get(cuisine_url)\n",
    "\n",
    "if response.status_code == 200:\n",
    "    cuisine_html_content = response.text\n",
    "else:\n",
    "    raise Exception('Something went wrong with the connection') "
   ],
   "metadata": {
    "collapsed": false,
    "ExecuteTime": {
     "end_time": "2023-12-14T14:34:27.472398500Z",
     "start_time": "2023-12-14T14:34:26.347131700Z"
    }
   },
   "id": "2cd45dc0337da448"
  },
  {
   "cell_type": "code",
   "execution_count": 6,
   "outputs": [],
   "source": [
    "cuisine_soup = BeautifulSoup(cuisine_html_content, 'html.parser')\n",
    "\n",
    "cuisine_titles = cuisine_soup.find_all(attrs={'class': 'item-title'})\n",
    "\n",
    "cuisine_product_titles = [cuisine_title.text.strip() for cuisine_title in cuisine_titles]\n",
    "\n",
    "cuisine_df = pd.DataFrame(cuisine_product_titles, columns=[\"Titre\"])\n",
    "cuisine_df.to_csv('produits.csv', mode='a', header=False, index=False)"
   ],
   "metadata": {
    "collapsed": false,
    "ExecuteTime": {
     "end_time": "2023-12-14T14:36:52.045722800Z",
     "start_time": "2023-12-14T14:36:51.970616700Z"
    }
   },
   "id": "484539b2b368b1b6"
  },
  {
   "cell_type": "code",
   "execution_count": 8,
   "outputs": [
    {
     "data": {
      "text/plain": "                                                Titre\n0     Generic Sac à Dos 5 En 1 Pour fille - Noir - 46\n1    STR Aspirateur de voiture 12V - Puissance 4500pa\n2   Sac à Dos Scolaire & camping - حجم صغير - Rose...\n3   Sac à Dos Scolaire & camping - حجم صغير - Gris...\n4   Sac à Dos Scolaire & camping - حجم صغير - Roug...\n5         Sac à Dos 4 En 1 Pour Fille - Jaune & Blanc\n6          Sac à Dos 4 En 1 Pour Fille - Rose & Blanc\n7          Sac à Dos 4 En 1 Pour Fille - Noir & Rouge\n8          Sac à Dos 4 En 1 Pour Fille - Vert & blanc\n9                Sac à Dos 5 En 1 Pour Fille - Bleu 2\n10               Sac à Dos 5 En 1 Pour Fille - Noir 2\n11               Sac à Dos 5 En 1 Pour Fille - Rose 2\n12                Sac à Dos 5 En 1 Pour Fille - Beige\n13                 Sac à Dos 5 En 1 Pour Fille - Bleu\n14                 Sac à Dos 5 En 1 Pour Fille - Rose\n15            Sac à Dos 5 En 1 Pour Fille - Noir - 44\n16              Bubble Gun - Pistolet à Bulles - Rose\n17              Bubble Gun - Pistolet à Bulles - Noir\n18  Pack 2 Moustiquaires Installation Rapide - Mag...\n19  Moustiquaires Installation Rapide - Magnétique...\n20                      Press Ail En Acier Inoxydable\n21                                      Keskes en PVC\n22                      3 Passoire - Acier Inoxydable\n23               Distributeur de p�te youyou - Donuts\n24  Hachoir verticale manuel avec couvercle et un ...\n25  Nicer Dicer Plus Hachoir Rapide L�gumes et Fru...\n26  Broyeur - multifonctions chopper rapide - 500m...\n27  Appareil 2 en 1 - Multifonction - Broyeur et M...\n28  Appareil 2 en 1 - Multifonction - Broyeur et M...\n29  Hachoir verticale manuel avec couvercle et un ...\n30  Corbeille � pain avec tissu �cru - Ovale - Marron\n31    Corbeille � pain avec tissu �cru - Rond - Beige\n32    Corbeille � pain avec tissu �cru - Rond - Blanc\n33  Stickers muraux Papier Peint Adh�sif Pour Cuis...\n34  60*500cm Stickers muraux Papier Peint Adhésif ...\n35  Appareil 2 en 1 - Multifonction Grand - Broyeu...\n36             Balance de Cuisine - 10 kg Max - Blanc\n37  Cafeti�re Italienne Expresso - Acier Inoxydabl...\n38                 2 Keskes pliables - ovale et carr�\n39  Broyeur - R�pe Noix - Amande - �pices En Acier...\n40  Thermos Isotherme - Th� et Caf� - Inox - Boiss...\n41  Thermos Isotherme - Th� et Caf� - Inox - Boiss...\n42     Thermos Alimentaire isotherme - 1400mL - Jaune\n43         Thermos en acier inoxydable � double paroi\n44  Thermos isotherme / bouteille de lapin color� ...\n45  Moule a G�teau 3D Silicone � 8 morceaux � - 28 cm\n46                   Appareil Soufflés & Brik Danouni\n47  Plateau de lit - Bois Massif - Petite Table de...\n48         Hachoir Coupe-légumes multifonction 3 en 1\n49       Hachoir Manuel Multi-fonction en d'aluminium\n50  Porte assiette - Bois massif et plastic dur - ...",
      "text/html": "<div>\n<style scoped>\n    .dataframe tbody tr th:only-of-type {\n        vertical-align: middle;\n    }\n\n    .dataframe tbody tr th {\n        vertical-align: top;\n    }\n\n    .dataframe thead th {\n        text-align: right;\n    }\n</style>\n<table border=\"1\" class=\"dataframe\">\n  <thead>\n    <tr style=\"text-align: right;\">\n      <th></th>\n      <th>Titre</th>\n    </tr>\n  </thead>\n  <tbody>\n    <tr>\n      <th>0</th>\n      <td>Generic Sac à Dos 5 En 1 Pour fille - Noir - 46</td>\n    </tr>\n    <tr>\n      <th>1</th>\n      <td>STR Aspirateur de voiture 12V - Puissance 4500pa</td>\n    </tr>\n    <tr>\n      <th>2</th>\n      <td>Sac à Dos Scolaire &amp; camping - حجم صغير - Rose...</td>\n    </tr>\n    <tr>\n      <th>3</th>\n      <td>Sac à Dos Scolaire &amp; camping - حجم صغير - Gris...</td>\n    </tr>\n    <tr>\n      <th>4</th>\n      <td>Sac à Dos Scolaire &amp; camping - حجم صغير - Roug...</td>\n    </tr>\n    <tr>\n      <th>5</th>\n      <td>Sac à Dos 4 En 1 Pour Fille - Jaune &amp; Blanc</td>\n    </tr>\n    <tr>\n      <th>6</th>\n      <td>Sac à Dos 4 En 1 Pour Fille - Rose &amp; Blanc</td>\n    </tr>\n    <tr>\n      <th>7</th>\n      <td>Sac à Dos 4 En 1 Pour Fille - Noir &amp; Rouge</td>\n    </tr>\n    <tr>\n      <th>8</th>\n      <td>Sac à Dos 4 En 1 Pour Fille - Vert &amp; blanc</td>\n    </tr>\n    <tr>\n      <th>9</th>\n      <td>Sac à Dos 5 En 1 Pour Fille - Bleu 2</td>\n    </tr>\n    <tr>\n      <th>10</th>\n      <td>Sac à Dos 5 En 1 Pour Fille - Noir 2</td>\n    </tr>\n    <tr>\n      <th>11</th>\n      <td>Sac à Dos 5 En 1 Pour Fille - Rose 2</td>\n    </tr>\n    <tr>\n      <th>12</th>\n      <td>Sac à Dos 5 En 1 Pour Fille - Beige</td>\n    </tr>\n    <tr>\n      <th>13</th>\n      <td>Sac à Dos 5 En 1 Pour Fille - Bleu</td>\n    </tr>\n    <tr>\n      <th>14</th>\n      <td>Sac à Dos 5 En 1 Pour Fille - Rose</td>\n    </tr>\n    <tr>\n      <th>15</th>\n      <td>Sac à Dos 5 En 1 Pour Fille - Noir - 44</td>\n    </tr>\n    <tr>\n      <th>16</th>\n      <td>Bubble Gun - Pistolet à Bulles - Rose</td>\n    </tr>\n    <tr>\n      <th>17</th>\n      <td>Bubble Gun - Pistolet à Bulles - Noir</td>\n    </tr>\n    <tr>\n      <th>18</th>\n      <td>Pack 2 Moustiquaires Installation Rapide - Mag...</td>\n    </tr>\n    <tr>\n      <th>19</th>\n      <td>Moustiquaires Installation Rapide - Magnétique...</td>\n    </tr>\n    <tr>\n      <th>20</th>\n      <td>Press Ail En Acier Inoxydable</td>\n    </tr>\n    <tr>\n      <th>21</th>\n      <td>Keskes en PVC</td>\n    </tr>\n    <tr>\n      <th>22</th>\n      <td>3 Passoire - Acier Inoxydable</td>\n    </tr>\n    <tr>\n      <th>23</th>\n      <td>Distributeur de p�te youyou - Donuts</td>\n    </tr>\n    <tr>\n      <th>24</th>\n      <td>Hachoir verticale manuel avec couvercle et un ...</td>\n    </tr>\n    <tr>\n      <th>25</th>\n      <td>Nicer Dicer Plus Hachoir Rapide L�gumes et Fru...</td>\n    </tr>\n    <tr>\n      <th>26</th>\n      <td>Broyeur - multifonctions chopper rapide - 500m...</td>\n    </tr>\n    <tr>\n      <th>27</th>\n      <td>Appareil 2 en 1 - Multifonction - Broyeur et M...</td>\n    </tr>\n    <tr>\n      <th>28</th>\n      <td>Appareil 2 en 1 - Multifonction - Broyeur et M...</td>\n    </tr>\n    <tr>\n      <th>29</th>\n      <td>Hachoir verticale manuel avec couvercle et un ...</td>\n    </tr>\n    <tr>\n      <th>30</th>\n      <td>Corbeille � pain avec tissu �cru - Ovale - Marron</td>\n    </tr>\n    <tr>\n      <th>31</th>\n      <td>Corbeille � pain avec tissu �cru - Rond - Beige</td>\n    </tr>\n    <tr>\n      <th>32</th>\n      <td>Corbeille � pain avec tissu �cru - Rond - Blanc</td>\n    </tr>\n    <tr>\n      <th>33</th>\n      <td>Stickers muraux Papier Peint Adh�sif Pour Cuis...</td>\n    </tr>\n    <tr>\n      <th>34</th>\n      <td>60*500cm Stickers muraux Papier Peint Adhésif ...</td>\n    </tr>\n    <tr>\n      <th>35</th>\n      <td>Appareil 2 en 1 - Multifonction Grand - Broyeu...</td>\n    </tr>\n    <tr>\n      <th>36</th>\n      <td>Balance de Cuisine - 10 kg Max - Blanc</td>\n    </tr>\n    <tr>\n      <th>37</th>\n      <td>Cafeti�re Italienne Expresso - Acier Inoxydabl...</td>\n    </tr>\n    <tr>\n      <th>38</th>\n      <td>2 Keskes pliables - ovale et carr�</td>\n    </tr>\n    <tr>\n      <th>39</th>\n      <td>Broyeur - R�pe Noix - Amande - �pices En Acier...</td>\n    </tr>\n    <tr>\n      <th>40</th>\n      <td>Thermos Isotherme - Th� et Caf� - Inox - Boiss...</td>\n    </tr>\n    <tr>\n      <th>41</th>\n      <td>Thermos Isotherme - Th� et Caf� - Inox - Boiss...</td>\n    </tr>\n    <tr>\n      <th>42</th>\n      <td>Thermos Alimentaire isotherme - 1400mL - Jaune</td>\n    </tr>\n    <tr>\n      <th>43</th>\n      <td>Thermos en acier inoxydable � double paroi</td>\n    </tr>\n    <tr>\n      <th>44</th>\n      <td>Thermos isotherme / bouteille de lapin color� ...</td>\n    </tr>\n    <tr>\n      <th>45</th>\n      <td>Moule a G�teau 3D Silicone � 8 morceaux � - 28 cm</td>\n    </tr>\n    <tr>\n      <th>46</th>\n      <td>Appareil Soufflés &amp; Brik Danouni</td>\n    </tr>\n    <tr>\n      <th>47</th>\n      <td>Plateau de lit - Bois Massif - Petite Table de...</td>\n    </tr>\n    <tr>\n      <th>48</th>\n      <td>Hachoir Coupe-légumes multifonction 3 en 1</td>\n    </tr>\n    <tr>\n      <th>49</th>\n      <td>Hachoir Manuel Multi-fonction en d'aluminium</td>\n    </tr>\n    <tr>\n      <th>50</th>\n      <td>Porte assiette - Bois massif et plastic dur - ...</td>\n    </tr>\n  </tbody>\n</table>\n</div>"
     },
     "execution_count": 8,
     "metadata": {},
     "output_type": "execute_result"
    }
   ],
   "source": [
    "produits_df = pd.read_csv(\"produits.csv\")\n",
    "produits_df"
   ],
   "metadata": {
    "collapsed": false,
    "ExecuteTime": {
     "end_time": "2023-12-14T14:37:51.621434300Z",
     "start_time": "2023-12-14T14:37:51.610355900Z"
    }
   },
   "id": "e8883acb04fef6e"
  }
 ],
 "metadata": {
  "kernelspec": {
   "display_name": "Python 3",
   "language": "python",
   "name": "python3"
  },
  "language_info": {
   "codemirror_mode": {
    "name": "ipython",
    "version": 2
   },
   "file_extension": ".py",
   "mimetype": "text/x-python",
   "name": "python",
   "nbconvert_exporter": "python",
   "pygments_lexer": "ipython2",
   "version": "2.7.6"
  }
 },
 "nbformat": 4,
 "nbformat_minor": 5
}
