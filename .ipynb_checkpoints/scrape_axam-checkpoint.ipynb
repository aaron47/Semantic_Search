{
 "cells": [
  {
   "cell_type": "markdown",
   "source": [
    "## Import necessary libraries"
   ],
   "metadata": {
    "collapsed": false
   },
   "id": "27dab045f76ca5c4"
  },
  {
   "cell_type": "code",
   "execution_count": 1,
   "outputs": [],
   "source": [
    "import requests\n",
    "import pandas as pd\n",
    "from bs4 import BeautifulSoup"
   ],
   "metadata": {
    "collapsed": true,
    "ExecuteTime": {
     "end_time": "2023-12-14T13:29:37.510658500Z",
     "start_time": "2023-12-14T13:29:36.398377500Z"
    }
   },
   "id": "initial_id"
  },
  {
   "cell_type": "markdown",
   "source": [
    "## Fetch website"
   ],
   "metadata": {
    "collapsed": false
   },
   "id": "8ba7d915092c1461"
  },
  {
   "cell_type": "code",
   "execution_count": 33,
   "outputs": [],
   "source": [
    "url = 'https://www.3afssus.com/'\n",
    "response = requests.get(url)\n",
    "\n",
    "if response.status_code >= 200:\n",
    "    html_content = response.text\n",
    "else:\n",
    "    raise Exception('Something went wrong')"
   ],
   "metadata": {
    "collapsed": false,
    "ExecuteTime": {
     "end_time": "2023-12-14T13:56:06.175692700Z",
     "start_time": "2023-12-14T13:56:04.815785800Z"
    }
   },
   "id": "3612be5d1757fda8"
  },
  {
   "cell_type": "markdown",
   "source": [
    "## Scrape Home Page"
   ],
   "metadata": {
    "collapsed": false
   },
   "id": "2cfda4811279a5c1"
  },
  {
   "cell_type": "code",
   "execution_count": 54,
   "outputs": [],
   "source": [
    "soup = BeautifulSoup(html_content, 'html.parser')\n",
    "\n",
    "titles = soup.find_all(attrs={'class': 'item-title'})\n",
    "\n",
    "product_titles = [title.text.strip() for title in titles]\n",
    "\n",
    "df = pd.DataFrame(product_titles, columns=[\"Titre\"])\n",
    "df.to_csv('produits.csv', index=False)"
   ],
   "metadata": {
    "collapsed": false,
    "ExecuteTime": {
     "end_time": "2023-12-14T14:23:59.129421600Z",
     "start_time": "2023-12-14T14:23:59.074852800Z"
    }
   },
   "id": "19d7368acdc1518b"
  },
  {
   "cell_type": "code",
   "execution_count": 56,
   "outputs": [
    {
     "data": {
      "text/plain": "                                                Titre\n0     Generic Sac à Dos 5 En 1 Pour fille - Noir - 46\n1    STR Aspirateur de voiture 12V - Puissance 4500pa\n2   Sac à Dos Scolaire & camping - حجم صغير - Rose...\n3   Sac à Dos Scolaire & camping - حجم صغير - Gris...\n4   Sac à Dos Scolaire & camping - حجم صغير - Roug...\n5         Sac à Dos 4 En 1 Pour Fille - Jaune & Blanc\n6          Sac à Dos 4 En 1 Pour Fille - Rose & Blanc\n7          Sac à Dos 4 En 1 Pour Fille - Noir & Rouge\n8          Sac à Dos 4 En 1 Pour Fille - Vert & blanc\n9                Sac à Dos 5 En 1 Pour Fille - Bleu 2\n10               Sac à Dos 5 En 1 Pour Fille - Noir 2\n11               Sac à Dos 5 En 1 Pour Fille - Rose 2\n12                Sac à Dos 5 En 1 Pour Fille - Beige\n13                 Sac à Dos 5 En 1 Pour Fille - Bleu\n14                 Sac à Dos 5 En 1 Pour Fille - Rose\n15            Sac à Dos 5 En 1 Pour Fille - Noir - 44\n16              Bubble Gun - Pistolet à Bulles - Rose\n17              Bubble Gun - Pistolet à Bulles - Noir\n18  Pack 2 Moustiquaires Installation Rapide - Mag...\n19  Moustiquaires Installation Rapide - Magnétique...",
      "text/html": "<div>\n<style scoped>\n    .dataframe tbody tr th:only-of-type {\n        vertical-align: middle;\n    }\n\n    .dataframe tbody tr th {\n        vertical-align: top;\n    }\n\n    .dataframe thead th {\n        text-align: right;\n    }\n</style>\n<table border=\"1\" class=\"dataframe\">\n  <thead>\n    <tr style=\"text-align: right;\">\n      <th></th>\n      <th>Titre</th>\n    </tr>\n  </thead>\n  <tbody>\n    <tr>\n      <th>0</th>\n      <td>Generic Sac à Dos 5 En 1 Pour fille - Noir - 46</td>\n    </tr>\n    <tr>\n      <th>1</th>\n      <td>STR Aspirateur de voiture 12V - Puissance 4500pa</td>\n    </tr>\n    <tr>\n      <th>2</th>\n      <td>Sac à Dos Scolaire &amp; camping - حجم صغير - Rose...</td>\n    </tr>\n    <tr>\n      <th>3</th>\n      <td>Sac à Dos Scolaire &amp; camping - حجم صغير - Gris...</td>\n    </tr>\n    <tr>\n      <th>4</th>\n      <td>Sac à Dos Scolaire &amp; camping - حجم صغير - Roug...</td>\n    </tr>\n    <tr>\n      <th>5</th>\n      <td>Sac à Dos 4 En 1 Pour Fille - Jaune &amp; Blanc</td>\n    </tr>\n    <tr>\n      <th>6</th>\n      <td>Sac à Dos 4 En 1 Pour Fille - Rose &amp; Blanc</td>\n    </tr>\n    <tr>\n      <th>7</th>\n      <td>Sac à Dos 4 En 1 Pour Fille - Noir &amp; Rouge</td>\n    </tr>\n    <tr>\n      <th>8</th>\n      <td>Sac à Dos 4 En 1 Pour Fille - Vert &amp; blanc</td>\n    </tr>\n    <tr>\n      <th>9</th>\n      <td>Sac à Dos 5 En 1 Pour Fille - Bleu 2</td>\n    </tr>\n    <tr>\n      <th>10</th>\n      <td>Sac à Dos 5 En 1 Pour Fille - Noir 2</td>\n    </tr>\n    <tr>\n      <th>11</th>\n      <td>Sac à Dos 5 En 1 Pour Fille - Rose 2</td>\n    </tr>\n    <tr>\n      <th>12</th>\n      <td>Sac à Dos 5 En 1 Pour Fille - Beige</td>\n    </tr>\n    <tr>\n      <th>13</th>\n      <td>Sac à Dos 5 En 1 Pour Fille - Bleu</td>\n    </tr>\n    <tr>\n      <th>14</th>\n      <td>Sac à Dos 5 En 1 Pour Fille - Rose</td>\n    </tr>\n    <tr>\n      <th>15</th>\n      <td>Sac à Dos 5 En 1 Pour Fille - Noir - 44</td>\n    </tr>\n    <tr>\n      <th>16</th>\n      <td>Bubble Gun - Pistolet à Bulles - Rose</td>\n    </tr>\n    <tr>\n      <th>17</th>\n      <td>Bubble Gun - Pistolet à Bulles - Noir</td>\n    </tr>\n    <tr>\n      <th>18</th>\n      <td>Pack 2 Moustiquaires Installation Rapide - Mag...</td>\n    </tr>\n    <tr>\n      <th>19</th>\n      <td>Moustiquaires Installation Rapide - Magnétique...</td>\n    </tr>\n  </tbody>\n</table>\n</div>"
     },
     "execution_count": 56,
     "metadata": {},
     "output_type": "execute_result"
    }
   ],
   "source": [
    "df"
   ],
   "metadata": {
    "collapsed": false,
    "ExecuteTime": {
     "end_time": "2023-12-14T14:28:33.931107500Z",
     "start_time": "2023-12-14T14:28:33.903560900Z"
    }
   },
   "id": "2ea37e804371e4df"
  },
  {
   "cell_type": "markdown",
   "source": [
    "## Scrape Cuisine Category"
   ],
   "metadata": {
    "collapsed": false
   },
   "id": "f47ea8363b18ff4d"
  },
  {
   "cell_type": "code",
   "execution_count": null,
   "outputs": [],
   "source": [
    "df"
   ],
   "metadata": {
    "collapsed": false
   },
   "id": "2cd45dc0337da448"
  },
  {
   "cell_type": "code",
   "execution_count": null,
   "outputs": [],
   "source": [],
   "metadata": {
    "collapsed": false
   },
   "id": "484539b2b368b1b6"
  }
 ],
 "metadata": {
  "kernelspec": {
   "display_name": "Python 3",
   "language": "python",
   "name": "python3"
  },
  "language_info": {
   "codemirror_mode": {
    "name": "ipython",
    "version": 2
   },
   "file_extension": ".py",
   "mimetype": "text/x-python",
   "name": "python",
   "nbconvert_exporter": "python",
   "pygments_lexer": "ipython2",
   "version": "2.7.6"
  }
 },
 "nbformat": 4,
 "nbformat_minor": 5
}
